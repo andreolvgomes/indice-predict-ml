{
 "cells": [
  {
   "cell_type": "code",
   "execution_count": 233,
   "metadata": {},
   "outputs": [],
   "source": [
    "from keras.models import Sequential\n",
    "from keras.layers import Dense, Dropout, LSTM\n",
    "from sklearn.preprocessing import MinMaxScaler\n",
    "import matplotlib.pyplot as plt\n",
    "import numpy as np\n",
    "import pandas as pd"
   ]
  },
  {
   "cell_type": "code",
   "execution_count": 234,
   "metadata": {},
   "outputs": [
    {
     "data": {
      "text/plain": [
       "(1242, 7)"
      ]
     },
     "execution_count": 234,
     "metadata": {},
     "output_type": "execute_result"
    }
   ],
   "source": [
    "base = pd.read_csv('datasets/petr4_treinamento.csv')\n",
    "base = base.dropna()\n",
    "base.shape"
   ]
  },
  {
   "cell_type": "code",
   "execution_count": 235,
   "metadata": {},
   "outputs": [],
   "source": [
    "# price Open\n",
    "base_treinamento = base.iloc[:, 1:2].values"
   ]
  },
  {
   "cell_type": "code",
   "execution_count": 236,
   "metadata": {},
   "outputs": [],
   "source": [
    "# normalization data\n",
    "normalizador = MinMaxScaler(feature_range=(0,1))\n",
    "base_treinamento_normalizada = normalizador.fit_transform(base_treinamento)"
   ]
  },
  {
   "cell_type": "code",
   "execution_count": 237,
   "metadata": {},
   "outputs": [
    {
     "data": {
      "text/plain": [
       "1242"
      ]
     },
     "execution_count": 237,
     "metadata": {},
     "output_type": "execute_result"
    }
   ],
   "source": [
    "base.shape[0]"
   ]
  },
  {
   "cell_type": "code",
   "execution_count": 238,
   "metadata": {},
   "outputs": [],
   "source": [
    "lenght = base.shape[0]\n",
    "dsstart = 90\n",
    "\n",
    "previsores=[]\n",
    "preco_real=[]\n",
    "\n",
    "for i in range(dsstart, lenght):\n",
    "    previsores.append(base_treinamento_normalizada[i-dsstart:i])\n",
    "    preco_real.append(base_treinamento_normalizada[i])\n",
    "    \n",
    "previsores = np.array(previsores)\n",
    "preco_real = np.array(preco_real)"
   ]
  },
  {
   "cell_type": "code",
   "execution_count": 239,
   "metadata": {},
   "outputs": [],
   "source": [
    "# organizando a estrutura para o Keras\n",
    "previsores = np.reshape(previsores, (preco_real.shape[0], previsores.shape[1], 1))"
   ]
  },
  {
   "cell_type": "code",
   "execution_count": 240,
   "metadata": {},
   "outputs": [],
   "source": [
    "regressor = Sequential()\n",
    "regressor.add(LSTM(units=100, return_sequences=True, input_shape=(previsores.shape[1], 1)))\n",
    "regressor.add(Dropout(0.3))# dropar 30% dos dados para evitar overfitting\n",
    "\n",
    "regressor.add(LSTM(units=50, return_sequences=True))\n",
    "regressor.add(Dropout(0.3))\n",
    "\n",
    "regressor.add(LSTM(units=50, return_sequences=True))\n",
    "regressor.add(Dropout(0.3))\n",
    "\n",
    "regressor.add(LSTM(units=50))\n",
    "regressor.add(Dropout(0.3))\n",
    "\n",
    "regressor.add(Dense(units=1, activation='linear'))\n",
    "regressor.compile(optimizer='rmsprop', loss='mean_squared_error', metrics=['mean_absolute_error'])"
   ]
  },
  {
   "cell_type": "code",
   "execution_count": 241,
   "metadata": {},
   "outputs": [
    {
     "name": "stdout",
     "output_type": "stream",
     "text": [
      "Epoch 1/100\n",
      "36/36 [==============================] - 3s 89ms/step - loss: 0.0369 - mean_absolute_error: 0.1373\n",
      "Epoch 2/100\n",
      "36/36 [==============================] - 3s 93ms/step - loss: 0.0148 - mean_absolute_error: 0.0951: 1s - loss: 0.0141 - mean_a\n",
      "Epoch 3/100\n",
      "36/36 [==============================] - 3s 90ms/step - loss: 0.0152 - mean_absolute_error: 0.0969\n",
      "Epoch 4/100\n",
      "36/36 [==============================] - 3s 92ms/step - loss: 0.0105 - mean_absolute_error: 0.0792\n",
      "Epoch 5/100\n",
      "36/36 [==============================] - 3s 89ms/step - loss: 0.0107 - mean_absolute_error: 0.0804\n",
      "Epoch 6/100\n",
      "36/36 [==============================] - 3s 86ms/step - loss: 0.0095 - mean_absolute_error: 0.0738\n",
      "Epoch 7/100\n",
      "36/36 [==============================] - 3s 86ms/step - loss: 0.0085 - mean_absolute_error: 0.0696\n",
      "Epoch 8/100\n",
      "36/36 [==============================] - 3s 86ms/step - loss: 0.0081 - mean_absolute_error: 0.0682\n",
      "Epoch 9/100\n",
      "36/36 [==============================] - 3s 85ms/step - loss: 0.0076 - mean_absolute_error: 0.0654\n",
      "Epoch 10/100\n",
      "36/36 [==============================] - 3s 88ms/step - loss: 0.0077 - mean_absolute_error: 0.0671\n",
      "Epoch 11/100\n",
      "36/36 [==============================] - 3s 88ms/step - loss: 0.0066 - mean_absolute_error: 0.0628: 2s - loss: 0.0061 - m\n",
      "Epoch 12/100\n",
      "36/36 [==============================] - 3s 88ms/step - loss: 0.0060 - mean_absolute_error: 0.0579\n",
      "Epoch 13/100\n",
      "36/36 [==============================] - 3s 88ms/step - loss: 0.0065 - mean_absolute_error: 0.0611\n",
      "Epoch 14/100\n",
      "36/36 [==============================] - 3s 87ms/step - loss: 0.0052 - mean_absolute_error: 0.0548\n",
      "Epoch 15/100\n",
      "36/36 [==============================] - 3s 90ms/step - loss: 0.0054 - mean_absolute_error: 0.0564\n",
      "Epoch 16/100\n",
      "36/36 [==============================] - 3s 88ms/step - loss: 0.0053 - mean_absolute_error: 0.0554\n",
      "Epoch 17/100\n",
      "36/36 [==============================] - 3s 88ms/step - loss: 0.0044 - mean_absolute_error: 0.0502\n",
      "Epoch 18/100\n",
      "36/36 [==============================] - 3s 88ms/step - loss: 0.0046 - mean_absolute_error: 0.0523\n",
      "Epoch 19/100\n",
      "36/36 [==============================] - 3s 96ms/step - loss: 0.0044 - mean_absolute_error: 0.0510\n",
      "Epoch 20/100\n",
      "36/36 [==============================] - 3s 91ms/step - loss: 0.0042 - mean_absolute_error: 0.0501\n",
      "Epoch 21/100\n",
      "36/36 [==============================] - 4s 101ms/step - loss: 0.0041 - mean_absolute_error: 0.0492\n",
      "Epoch 22/100\n",
      "36/36 [==============================] - 3s 96ms/step - loss: 0.0042 - mean_absolute_error: 0.0493\n",
      "Epoch 23/100\n",
      "36/36 [==============================] - 3s 92ms/step - loss: 0.0037 - mean_absolute_error: 0.0461\n",
      "Epoch 24/100\n",
      "36/36 [==============================] - 3s 94ms/step - loss: 0.0040 - mean_absolute_error: 0.0482: 2s - loss: 0.0039 -\n",
      "Epoch 25/100\n",
      "36/36 [==============================] - 3s 94ms/step - loss: 0.0036 - mean_absolute_error: 0.0460\n",
      "Epoch 26/100\n",
      "36/36 [==============================] - 3s 92ms/step - loss: 0.0037 - mean_absolute_error: 0.0462\n",
      "Epoch 27/100\n",
      "36/36 [==============================] - 3s 91ms/step - loss: 0.0036 - mean_absolute_error: 0.0454\n",
      "Epoch 28/100\n",
      "36/36 [==============================] - 3s 92ms/step - loss: 0.0034 - mean_absolute_error: 0.0439\n",
      "Epoch 29/100\n",
      "36/36 [==============================] - 4s 99ms/step - loss: 0.0030 - mean_absolute_error: 0.0423\n",
      "Epoch 30/100\n",
      "36/36 [==============================] - 3s 94ms/step - loss: 0.0035 - mean_absolute_error: 0.0446\n",
      "Epoch 31/100\n",
      "36/36 [==============================] - 4s 98ms/step - loss: 0.0031 - mean_absolute_error: 0.0424\n",
      "Epoch 32/100\n",
      "36/36 [==============================] - 3s 91ms/step - loss: 0.0030 - mean_absolute_error: 0.0413\n",
      "Epoch 33/100\n",
      "36/36 [==============================] - 3s 91ms/step - loss: 0.0031 - mean_absolute_error: 0.0431\n",
      "Epoch 34/100\n",
      "36/36 [==============================] - 3s 91ms/step - loss: 0.0027 - mean_absolute_error: 0.0396\n",
      "Epoch 35/100\n",
      "36/36 [==============================] - 3s 91ms/step - loss: 0.0027 - mean_absolute_error: 0.0395\n",
      "Epoch 36/100\n",
      "36/36 [==============================] - 3s 90ms/step - loss: 0.0028 - mean_absolute_error: 0.0399\n",
      "Epoch 37/100\n",
      "36/36 [==============================] - 3s 90ms/step - loss: 0.0027 - mean_absolute_error: 0.0405\n",
      "Epoch 38/100\n",
      "36/36 [==============================] - 3s 90ms/step - loss: 0.0028 - mean_absolute_error: 0.0411\n",
      "Epoch 39/100\n",
      "36/36 [==============================] - 3s 89ms/step - loss: 0.0025 - mean_absolute_error: 0.0391\n",
      "Epoch 40/100\n",
      "36/36 [==============================] - 3s 90ms/step - loss: 0.0025 - mean_absolute_error: 0.0373\n",
      "Epoch 41/100\n",
      "36/36 [==============================] - 3s 93ms/step - loss: 0.0027 - mean_absolute_error: 0.0398: 2s - loss: 0.00\n",
      "Epoch 42/100\n",
      "36/36 [==============================] - 3s 91ms/step - loss: 0.0026 - mean_absolute_error: 0.0389: 1s - loss: 0.0026 - mean_absolut\n",
      "Epoch 43/100\n",
      "36/36 [==============================] - 3s 87ms/step - loss: 0.0025 - mean_absolute_error: 0.0376\n",
      "Epoch 44/100\n",
      "36/36 [==============================] - 3s 87ms/step - loss: 0.0026 - mean_absolute_error: 0.0385\n",
      "Epoch 45/100\n",
      "36/36 [==============================] - 3s 92ms/step - loss: 0.0025 - mean_absolute_error: 0.0386\n",
      "Epoch 46/100\n",
      "36/36 [==============================] - 3s 87ms/step - loss: 0.0025 - mean_absolute_error: 0.0381\n",
      "Epoch 47/100\n",
      "36/36 [==============================] - 3s 85ms/step - loss: 0.0023 - mean_absolute_error: 0.0363\n",
      "Epoch 48/100\n",
      "36/36 [==============================] - 3s 89ms/step - loss: 0.0024 - mean_absolute_error: 0.0374\n",
      "Epoch 49/100\n",
      "36/36 [==============================] - 3s 88ms/step - loss: 0.0023 - mean_absolute_error: 0.0358\n",
      "Epoch 50/100\n",
      "36/36 [==============================] - 3s 87ms/step - loss: 0.0024 - mean_absolute_error: 0.0368\n",
      "Epoch 51/100\n",
      "36/36 [==============================] - 3s 89ms/step - loss: 0.0021 - mean_absolute_error: 0.0353: 1s - loss: 0.0020 - mean_absol\n",
      "Epoch 52/100\n",
      "36/36 [==============================] - 3s 87ms/step - loss: 0.0021 - mean_absolute_error: 0.0343\n",
      "Epoch 53/100\n",
      "36/36 [==============================] - 3s 84ms/step - loss: 0.0022 - mean_absolute_error: 0.0358\n",
      "Epoch 54/100\n",
      "36/36 [==============================] - 3s 88ms/step - loss: 0.0023 - mean_absolute_error: 0.0360\n",
      "Epoch 55/100\n",
      "36/36 [==============================] - 3s 90ms/step - loss: 0.0021 - mean_absolute_error: 0.0345: 2s - loss: 0.0018 -\n",
      "Epoch 56/100\n",
      "36/36 [==============================] - 3s 95ms/step - loss: 0.0021 - mean_absolute_error: 0.0350\n",
      "Epoch 57/100\n",
      "36/36 [==============================] - 3s 94ms/step - loss: 0.0022 - mean_absolute_error: 0.0350\n",
      "Epoch 58/100\n",
      "36/36 [==============================] - 3s 93ms/step - loss: 0.0021 - mean_absolute_error: 0.0340\n",
      "Epoch 59/100\n",
      "36/36 [==============================] - 3s 92ms/step - loss: 0.0018 - mean_absolute_error: 0.0321\n",
      "Epoch 60/100\n",
      "36/36 [==============================] - 3s 91ms/step - loss: 0.0020 - mean_absolute_error: 0.0339\n",
      "Epoch 61/100\n",
      "36/36 [==============================] - 3s 90ms/step - loss: 0.0020 - mean_absolute_error: 0.0334\n",
      "Epoch 62/100\n",
      "36/36 [==============================] - 3s 92ms/step - loss: 0.0020 - mean_absolute_error: 0.0332\n",
      "Epoch 63/100\n",
      "36/36 [==============================] - 3s 91ms/step - loss: 0.0019 - mean_absolute_error: 0.0331\n",
      "Epoch 64/100\n",
      "36/36 [==============================] - 3s 90ms/step - loss: 0.0020 - mean_absolute_error: 0.0341\n",
      "Epoch 65/100\n",
      "36/36 [==============================] - 3s 91ms/step - loss: 0.0017 - mean_absolute_error: 0.0318\n",
      "Epoch 66/100\n",
      "36/36 [==============================] - 3s 90ms/step - loss: 0.0020 - mean_absolute_error: 0.0340\n",
      "Epoch 67/100\n",
      "36/36 [==============================] - 3s 90ms/step - loss: 0.0019 - mean_absolute_error: 0.0328: 1s - loss: 0.0017 - mea\n",
      "Epoch 68/100\n",
      "36/36 [==============================] - 3s 89ms/step - loss: 0.0018 - mean_absolute_error: 0.0319: 1s - loss: 0.\n",
      "Epoch 69/100\n",
      "36/36 [==============================] - 3s 90ms/step - loss: 0.0019 - mean_absolute_error: 0.0326\n",
      "Epoch 70/100\n",
      "36/36 [==============================] - 3s 90ms/step - loss: 0.0018 - mean_absolute_error: 0.0322: 1s - loss: 0.0016 - mean\n",
      "Epoch 71/100\n",
      "36/36 [==============================] - 3s 90ms/step - loss: 0.0018 - mean_absolute_error: 0.0322\n",
      "Epoch 72/100\n"
     ]
    },
    {
     "name": "stdout",
     "output_type": "stream",
     "text": [
      "36/36 [==============================] - 3s 90ms/step - loss: 0.0017 - mean_absolute_error: 0.0316: 0s - loss: 0.0018 - mean_absolute_erro\n",
      "Epoch 73/100\n",
      "36/36 [==============================] - 3s 90ms/step - loss: 0.0018 - mean_absolute_error: 0.0320\n",
      "Epoch 74/100\n",
      "36/36 [==============================] - 3s 90ms/step - loss: 0.0019 - mean_absolute_error: 0.0317\n",
      "Epoch 75/100\n",
      "36/36 [==============================] - 3s 90ms/step - loss: 0.0018 - mean_absolute_error: 0.0320\n",
      "Epoch 76/100\n",
      "36/36 [==============================] - 3s 93ms/step - loss: 0.0017 - mean_absolute_error: 0.0313\n",
      "Epoch 77/100\n",
      "36/36 [==============================] - 3s 87ms/step - loss: 0.0017 - mean_absolute_error: 0.0312: 1s - loss: 0.0017 - mean_absolu\n",
      "Epoch 78/100\n",
      "36/36 [==============================] - 3s 84ms/step - loss: 0.0017 - mean_absolute_error: 0.0313\n",
      "Epoch 79/100\n",
      "36/36 [==============================] - 3s 90ms/step - loss: 0.0016 - mean_absolute_error: 0.0298\n",
      "Epoch 80/100\n",
      "36/36 [==============================] - 3s 91ms/step - loss: 0.0017 - mean_absolute_error: 0.0308\n",
      "Epoch 81/100\n",
      "36/36 [==============================] - 3s 93ms/step - loss: 0.0016 - mean_absolute_error: 0.0305\n",
      "Epoch 82/100\n",
      "36/36 [==============================] - 3s 91ms/step - loss: 0.0018 - mean_absolute_error: 0.0322\n",
      "Epoch 83/100\n",
      "36/36 [==============================] - 3s 92ms/step - loss: 0.0018 - mean_absolute_error: 0.0313\n",
      "Epoch 84/100\n",
      "36/36 [==============================] - 3s 88ms/step - loss: 0.0016 - mean_absolute_error: 0.0303: 1s - loss: 0\n",
      "Epoch 85/100\n",
      "36/36 [==============================] - 3s 88ms/step - loss: 0.0015 - mean_absolute_error: 0.0296: 0s - loss: 0.0015 - mean_absolute_error: 0.029\n",
      "Epoch 86/100\n",
      "36/36 [==============================] - 3s 90ms/step - loss: 0.0017 - mean_absolute_error: 0.0309: 0s - loss: 0.0017 - mean_absolute_error: 0\n",
      "Epoch 87/100\n",
      "36/36 [==============================] - 3s 89ms/step - loss: 0.0017 - mean_absolute_error: 0.0300\n",
      "Epoch 88/100\n",
      "36/36 [==============================] - 3s 89ms/step - loss: 0.0017 - mean_absolute_error: 0.0304\n",
      "Epoch 89/100\n",
      "36/36 [==============================] - 3s 88ms/step - loss: 0.0016 - mean_absolute_error: 0.0300\n",
      "Epoch 90/100\n",
      "36/36 [==============================] - 3s 90ms/step - loss: 0.0016 - mean_absolute_error: 0.0295\n",
      "Epoch 91/100\n",
      "36/36 [==============================] - 3s 91ms/step - loss: 0.0016 - mean_absolute_error: 0.0295\n",
      "Epoch 92/100\n",
      "36/36 [==============================] - 3s 95ms/step - loss: 0.0016 - mean_absolute_error: 0.0302\n",
      "Epoch 93/100\n",
      "36/36 [==============================] - 3s 95ms/step - loss: 0.0016 - mean_absolute_error: 0.0294\n",
      "Epoch 94/100\n",
      "36/36 [==============================] - 3s 92ms/step - loss: 0.0014 - mean_absolute_error: 0.0287\n",
      "Epoch 95/100\n",
      "36/36 [==============================] - 3s 91ms/step - loss: 0.0017 - mean_absolute_error: 0.0301\n",
      "Epoch 96/100\n",
      "36/36 [==============================] - 3s 93ms/step - loss: 0.0017 - mean_absolute_error: 0.0311\n",
      "Epoch 97/100\n",
      "36/36 [==============================] - 3s 92ms/step - loss: 0.0016 - mean_absolute_error: 0.0295: 0s - loss: 0.0014 - mean_absolute_error - ETA: 0s - loss: 0.0016 - mean_absolute_error: 0.029\n",
      "Epoch 98/100\n",
      "36/36 [==============================] - 3s 93ms/step - loss: 0.0013 - mean_absolute_error: 0.0273\n",
      "Epoch 99/100\n",
      "36/36 [==============================] - 3s 96ms/step - loss: 0.0016 - mean_absolute_error: 0.0299\n",
      "Epoch 100/100\n",
      "36/36 [==============================] - 3s 97ms/step - loss: 0.0015 - mean_absolute_error: 0.0293\n"
     ]
    },
    {
     "data": {
      "text/plain": [
       "<tensorflow.python.keras.callbacks.History at 0x23dba64a108>"
      ]
     },
     "execution_count": 241,
     "metadata": {},
     "output_type": "execute_result"
    }
   ],
   "source": [
    "regressor.fit(previsores, preco_real, epochs=100, batch_size=32)"
   ]
  },
  {
   "cell_type": "markdown",
   "metadata": {},
   "source": [
    "# Predict"
   ]
  },
  {
   "cell_type": "code",
   "execution_count": 242,
   "metadata": {},
   "outputs": [
    {
     "data": {
      "text/plain": [
       "(22, 7)"
      ]
     },
     "execution_count": 242,
     "metadata": {},
     "output_type": "execute_result"
    }
   ],
   "source": [
    "base_teste = pd.read_csv('datasets/petr4_teste.csv')\n",
    "preco_real_teste = base_teste.iloc[:, 1:2].values\n",
    "base_teste.shape"
   ]
  },
  {
   "cell_type": "code",
   "execution_count": 243,
   "metadata": {},
   "outputs": [
    {
     "data": {
      "text/plain": [
       "(1264,)"
      ]
     },
     "execution_count": 243,
     "metadata": {},
     "output_type": "execute_result"
    }
   ],
   "source": [
    "base_completa = pd.concat((base['Open'], base_teste['Open']), axis = 0)\n",
    "base_completa.shape"
   ]
  },
  {
   "cell_type": "code",
   "execution_count": 244,
   "metadata": {},
   "outputs": [
    {
     "data": {
      "text/plain": [
       "(112, 1)"
      ]
     },
     "execution_count": 244,
     "metadata": {},
     "output_type": "execute_result"
    }
   ],
   "source": [
    "entradas = base_completa[len(base_completa) - len(base_teste) - 90:].values\n",
    "entradas = entradas.reshape(-1, 1)\n",
    "entradas = normalizador.transform(entradas)\n",
    "entradas.shape"
   ]
  },
  {
   "cell_type": "code",
   "execution_count": 245,
   "metadata": {},
   "outputs": [
    {
     "data": {
      "text/plain": [
       "(22, 90, 1)"
      ]
     },
     "execution_count": 245,
     "metadata": {},
     "output_type": "execute_result"
    }
   ],
   "source": [
    "X_teste=[]\n",
    "for i in range(dsstart, entradas.shape[0]):\n",
    "    X_teste.append(entradas[i-dsstart:i])\n",
    "X_teste = np.array(X_teste)\n",
    "X_teste = np.reshape(X_teste, (X_teste.shape[0], X_teste.shape[1], 1))\n",
    "X_teste.shape"
   ]
  },
  {
   "cell_type": "code",
   "execution_count": 246,
   "metadata": {},
   "outputs": [],
   "source": [
    "previsoes = regressor.predict(X_teste)"
   ]
  },
  {
   "cell_type": "code",
   "execution_count": 247,
   "metadata": {},
   "outputs": [],
   "source": [
    "previsoes = normalizador.inverse_transform(previsoes)"
   ]
  },
  {
   "cell_type": "code",
   "execution_count": 248,
   "metadata": {},
   "outputs": [
    {
     "data": {
      "text/plain": [
       "(22, 22)"
      ]
     },
     "execution_count": 248,
     "metadata": {},
     "output_type": "execute_result"
    }
   ],
   "source": [
    "len(preco_real_teste), len(previsoes)"
   ]
  },
  {
   "cell_type": "code",
   "execution_count": 257,
   "metadata": {},
   "outputs": [
    {
     "data": {
      "text/plain": [
       "(17.908348, 17.87454563636364, 0.03380244713245517)"
      ]
     },
     "execution_count": 257,
     "metadata": {},
     "output_type": "execute_result"
    }
   ],
   "source": [
    "previsoes.mean(), preco_real_teste.mean(), (abs(previsoes.mean()-preco_real_teste.mean()))"
   ]
  },
  {
   "cell_type": "code",
   "execution_count": 254,
   "metadata": {},
   "outputs": [
    {
     "data": {
      "text/plain": [
       "<matplotlib.legend.Legend at 0x23dc5a49e48>"
      ]
     },
     "execution_count": 254,
     "metadata": {},
     "output_type": "execute_result"
    },
    {
     "data": {
      "image/png": "[encoded data removed]",
      "text/plain": [
       "<Figure size 1080x432 with 1 Axes>"
      ]
     },
     "metadata": {
      "needs_background": "light"
     },
     "output_type": "display_data"
    }
   ],
   "source": [
    "plt.figure(figsize=(15,6))\n",
    "plt.plot(preco_real_teste, color='red', label='Preço Real')\n",
    "plt.plot(previsoes, color='blue', label='Previsões')\n",
    "plt.grid(True)\n",
    "plt.legend()"
   ]
  },
  {
   "cell_type": "code",
   "execution_count": null,
   "metadata": {},
   "outputs": [],
   "source": []
  }
 ],
 "metadata": {
  "kernelspec": {
   "display_name": "Python 3",
   "language": "python",
   "name": "python3"
  },
  "language_info": {
   "codemirror_mode": {
    "name": "ipython",
    "version": 3
   },
   "file_extension": ".py",
   "mimetype": "text/x-python",
   "name": "python",
   "nbconvert_exporter": "python",
   "pygments_lexer": "ipython3",
   "version": "3.7.4"
  }
 },
 "nbformat": 4,
 "nbformat_minor": 2
}
